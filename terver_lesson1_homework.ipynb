{
  "nbformat": 4,
  "nbformat_minor": 0,
  "metadata": {
    "colab": {
      "name": "terver_lesson1_homework.ipynb",
      "provenance": [],
      "authorship_tag": "ABX9TyOO4psVUAfC6yGpEXCpWzOd",
      "include_colab_link": true
    },
    "kernelspec": {
      "name": "python3",
      "display_name": "Python 3"
    },
    "language_info": {
      "name": "python"
    }
  },
  "cells": [
    {
      "cell_type": "markdown",
      "metadata": {
        "id": "view-in-github",
        "colab_type": "text"
      },
      "source": [
        "<a href=\"https://colab.research.google.com/github/nataliavlrom/math/blob/main/terver_lesson1_homework.ipynb\" target=\"_parent\"><img src=\"https://colab.research.google.com/assets/colab-badge.svg\" alt=\"Open In Colab\"/></a>"
      ]
    },
    {
      "cell_type": "markdown",
      "metadata": {
        "id": "0H1ljTR4di2F"
      },
      "source": [
        "**Из колоды в 52 карты извлекаются случайным образом 4 карты. \n",
        "a) Найти вероятность того, что все карты – крести. \n",
        "б) Найти вероятность, что среди 4-х карт окажется хотя бы один туз.**\n"
      ]
    },
    {
      "cell_type": "code",
      "metadata": {
        "id": "nXTLJ7WUdvAx"
      },
      "source": [
        "from math import factorial\n",
        "\n",
        "def combinations(n, k):\n",
        "  return int(factorial(n)/(factorial(k)*factorial(n - k)))\n",
        "\n"
      ],
      "execution_count": 22,
      "outputs": []
    },
    {
      "cell_type": "code",
      "metadata": {
        "colab": {
          "base_uri": "https://localhost:8080/"
        },
        "id": "HSjcPRDigOj6",
        "outputId": "dd19c827-492c-452e-d5ae-448a892fceb0"
      },
      "source": [
        "#находим число сочетаний по 4 карты из 52\n",
        "m = combinations(52, 4)\n",
        "m"
      ],
      "execution_count": 23,
      "outputs": [
        {
          "output_type": "execute_result",
          "data": {
            "text/plain": [
              "270725"
            ]
          },
          "metadata": {},
          "execution_count": 23
        }
      ]
    },
    {
      "cell_type": "code",
      "metadata": {
        "colab": {
          "base_uri": "https://localhost:8080/"
        },
        "id": "_Kx5QK1fgk3W",
        "outputId": "2993a5b9-6eea-4ffd-a234-144ea649fc61"
      },
      "source": [
        "# в колоде 13 карт с мастью крести(52/4). получается 4 сочетания из 13 - блогоприятствующих событий\n",
        "n = combinations(13, 4)\n",
        "n\n"
      ],
      "execution_count": 24,
      "outputs": [
        {
          "output_type": "execute_result",
          "data": {
            "text/plain": [
              "715"
            ]
          },
          "metadata": {},
          "execution_count": 24
        }
      ]
    },
    {
      "cell_type": "code",
      "metadata": {
        "colab": {
          "base_uri": "https://localhost:8080/"
        },
        "id": "zHsiFtI9h7FU",
        "outputId": "2cb4527a-1aec-4ae9-9e51-209f0e185a86"
      },
      "source": [
        "#P(все 4 карты – крести) = n/m\n",
        "p = n / m\n",
        "p"
      ],
      "execution_count": 25,
      "outputs": [
        {
          "output_type": "execute_result",
          "data": {
            "text/plain": [
              "0.0026410564225690276"
            ]
          },
          "metadata": {},
          "execution_count": 25
        }
      ]
    },
    {
      "cell_type": "code",
      "metadata": {
        "id": "7o33nwWai3xe"
      },
      "source": [
        "#a) Найти вероятность того, что все карты – крести. ответ: 0,26%"
      ],
      "execution_count": 26,
      "outputs": []
    },
    {
      "cell_type": "code",
      "metadata": {
        "colab": {
          "base_uri": "https://localhost:8080/"
        },
        "id": "kGscaDVyjUJb",
        "outputId": "fb4beec5-bb5b-4069-e3bc-3c4037507e61"
      },
      "source": [
        "#б) в колоде 4 туза\n",
        "# выпадает 1 туз\n",
        "c1 = combinations(4, 1)\n",
        "c1\n"
      ],
      "execution_count": 27,
      "outputs": [
        {
          "output_type": "execute_result",
          "data": {
            "text/plain": [
              "4"
            ]
          },
          "metadata": {},
          "execution_count": 27
        }
      ]
    },
    {
      "cell_type": "code",
      "metadata": {
        "colab": {
          "base_uri": "https://localhost:8080/"
        },
        "id": "Rh3bDf3Cnuh8",
        "outputId": "e45f7f36-f3b5-4732-92b4-deb6156a99d2"
      },
      "source": [
        "# остальные 3 карты не тузы\n",
        "d3 = combinations(48, 3)\n",
        "d3"
      ],
      "execution_count": 28,
      "outputs": [
        {
          "output_type": "execute_result",
          "data": {
            "text/plain": [
              "17296"
            ]
          },
          "metadata": {},
          "execution_count": 28
        }
      ]
    },
    {
      "cell_type": "code",
      "metadata": {
        "colab": {
          "base_uri": "https://localhost:8080/"
        },
        "id": "i9TTuLz6kgXZ",
        "outputId": "8783e04c-02bd-4617-8d5d-e4353a3e5980"
      },
      "source": [
        "c2 = combinations(4, 2)\n",
        "c2"
      ],
      "execution_count": 29,
      "outputs": [
        {
          "output_type": "execute_result",
          "data": {
            "text/plain": [
              "6"
            ]
          },
          "metadata": {},
          "execution_count": 29
        }
      ]
    },
    {
      "cell_type": "code",
      "metadata": {
        "colab": {
          "base_uri": "https://localhost:8080/"
        },
        "id": "UAYPKko5ockX",
        "outputId": "3caa010a-2da6-462d-a195-ff8cd90e63f1"
      },
      "source": [
        "#остальные 2 карты не тузы\n",
        "d2 = combinations(48, 2)\n",
        "d2\n"
      ],
      "execution_count": 30,
      "outputs": [
        {
          "output_type": "execute_result",
          "data": {
            "text/plain": [
              "1128"
            ]
          },
          "metadata": {},
          "execution_count": 30
        }
      ]
    },
    {
      "cell_type": "code",
      "metadata": {
        "colab": {
          "base_uri": "https://localhost:8080/"
        },
        "id": "PPnToLqxkl_i",
        "outputId": "8aa0faf7-a659-4e0e-bc51-5ac4b626128a"
      },
      "source": [
        "c3 = combinations(4, 3)\n",
        "c3\n"
      ],
      "execution_count": 31,
      "outputs": [
        {
          "output_type": "execute_result",
          "data": {
            "text/plain": [
              "4"
            ]
          },
          "metadata": {},
          "execution_count": 31
        }
      ]
    },
    {
      "cell_type": "code",
      "metadata": {
        "colab": {
          "base_uri": "https://localhost:8080/"
        },
        "id": "agUt-79EpQcW",
        "outputId": "673d7035-8cc0-402d-ca48-4e071fd30af7"
      },
      "source": [
        "c4 = combinations(4, 4)\n",
        "c4"
      ],
      "execution_count": 32,
      "outputs": [
        {
          "output_type": "execute_result",
          "data": {
            "text/plain": [
              "1"
            ]
          },
          "metadata": {},
          "execution_count": 32
        }
      ]
    },
    {
      "cell_type": "code",
      "metadata": {
        "colab": {
          "base_uri": "https://localhost:8080/"
        },
        "id": "PaxZKESBlYbF",
        "outputId": "5b786f0c-821c-4768-d202-6646d574f2ba"
      },
      "source": [
        "#одна карта не туз \n",
        "d1 = combinations(48, 1)\n",
        "d1"
      ],
      "execution_count": 33,
      "outputs": [
        {
          "output_type": "execute_result",
          "data": {
            "text/plain": [
              "48"
            ]
          },
          "metadata": {},
          "execution_count": 33
        }
      ]
    },
    {
      "cell_type": "code",
      "metadata": {
        "colab": {
          "base_uri": "https://localhost:8080/"
        },
        "id": "2OTlL1teo-qE",
        "outputId": "c102b5f6-07c6-4a68-c768-b8720dab4d24"
      },
      "source": [
        "n2 = c1 * d3 + c2 * d2 + c3 * d1 + c4\n",
        "n2"
      ],
      "execution_count": 34,
      "outputs": [
        {
          "output_type": "execute_result",
          "data": {
            "text/plain": [
              "76145"
            ]
          },
          "metadata": {},
          "execution_count": 34
        }
      ]
    },
    {
      "cell_type": "code",
      "metadata": {
        "colab": {
          "base_uri": "https://localhost:8080/"
        },
        "id": "nbFJawxQptC3",
        "outputId": "64147df7-2d81-4357-cb2c-74dae182dc98"
      },
      "source": [
        "# Найти вероятность, что среди 4-х карт окажется хотя бы один туз. ответ 19,5%\n",
        "p2 = n2/m\n",
        "p2"
      ],
      "execution_count": 35,
      "outputs": [
        {
          "output_type": "execute_result",
          "data": {
            "text/plain": [
              "0.2812632745405855"
            ]
          },
          "metadata": {},
          "execution_count": 35
        }
      ]
    },
    {
      "cell_type": "markdown",
      "metadata": {
        "id": "6obV21UxqZOP"
      },
      "source": [
        "**На входной двери подъезда установлен кодовый замок, содержащий десять кнопок с цифрами от 0 до 9. Код содержит три цифры, которые нужно нажать одновременно. Какова вероятность того, что человек, не знающий код, откроет дверь с первой попытки?**\n"
      ]
    },
    {
      "cell_type": "code",
      "metadata": {
        "colab": {
          "base_uri": "https://localhost:8080/"
        },
        "id": "3BJBfMeAq1pw",
        "outputId": "828956db-c5fa-451b-f1b6-aa9d20e0bcf8"
      },
      "source": [
        "# 3 цифры из 10, порядок не важен тк нажимаем одновременно\n",
        "# находим с из 3 по 10\n",
        "# получается, что только одно сочетание верное \n",
        "n = 1\n",
        "m = combinations(10, 3)\n",
        "m"
      ],
      "execution_count": 36,
      "outputs": [
        {
          "output_type": "execute_result",
          "data": {
            "text/plain": [
              "120"
            ]
          },
          "metadata": {},
          "execution_count": 36
        }
      ]
    },
    {
      "cell_type": "code",
      "metadata": {
        "colab": {
          "base_uri": "https://localhost:8080/"
        },
        "id": "1W4E3EWurvy7",
        "outputId": "3095700b-fd4e-4f2f-9012-09a97a652edb"
      },
      "source": [
        "# вероятность угадать код с первой попытки 0,83%\n",
        "p = n / m\n",
        "p"
      ],
      "execution_count": 37,
      "outputs": [
        {
          "output_type": "execute_result",
          "data": {
            "text/plain": [
              "0.008333333333333333"
            ]
          },
          "metadata": {},
          "execution_count": 37
        }
      ]
    },
    {
      "cell_type": "markdown",
      "metadata": {
        "id": "Xzk4ZyEFsLny"
      },
      "source": [
        "**В ящике имеется 15 деталей, из которых 9 окрашены. Рабочий случайным образом извлекает 3 детали. Какова вероятность того, что все извлеченные детали окрашены?**"
      ]
    },
    {
      "cell_type": "code",
      "metadata": {
        "colab": {
          "base_uri": "https://localhost:8080/"
        },
        "id": "ptJ5cxNAsfL9",
        "outputId": "db0ca715-2bef-40aa-ff7c-71ac9921d56e"
      },
      "source": [
        "# так как это зависимые события \n",
        "# p(3 окраш детали) = p(одна окраш) * p (вторая окрашена, при условии, что первая окраш уже вытащена) * p(третья окраш, при усл, что 2 окрашенные уже вытащены)\n",
        "p = (9 / 15) * (8 / 14) * (7 / 13)\n",
        "p\n",
        "# ответ 12/65 = 0,18 = 18%"
      ],
      "execution_count": 38,
      "outputs": [
        {
          "output_type": "execute_result",
          "data": {
            "text/plain": [
              "0.18461538461538457"
            ]
          },
          "metadata": {},
          "execution_count": 38
        }
      ]
    },
    {
      "cell_type": "markdown",
      "metadata": {
        "id": "1i2LfdWwwOuY"
      },
      "source": [
        "**В лотерее 100 билетов. Из них 2 выигрышных. Какова вероятность того, что 2 приобретенных билета окажутся выигрышными?**"
      ]
    },
    {
      "cell_type": "code",
      "metadata": {
        "colab": {
          "base_uri": "https://localhost:8080/"
        },
        "id": "BQEfSGQYwXqZ",
        "outputId": "891b626c-5f61-4d25-f12e-07c3fa5ad8fd"
      },
      "source": [
        "combinations(100, 2)"
      ],
      "execution_count": 39,
      "outputs": [
        {
          "output_type": "execute_result",
          "data": {
            "text/plain": [
              "4950"
            ]
          },
          "metadata": {},
          "execution_count": 39
        }
      ]
    },
    {
      "cell_type": "code",
      "metadata": {
        "colab": {
          "base_uri": "https://localhost:8080/"
        },
        "id": "NFqR2FyVxlUo",
        "outputId": "2f9ffb40-e28a-4835-e9c3-a78c7926e7d9"
      },
      "source": [
        "#так как только одно сочетание обеспечивает покупку сразу двух выигрышных билетов\n",
        "p = 1/4950\n",
        "p"
      ],
      "execution_count": 40,
      "outputs": [
        {
          "output_type": "execute_result",
          "data": {
            "text/plain": [
              "0.00020202020202020202"
            ]
          },
          "metadata": {},
          "execution_count": 40
        }
      ]
    }
  ]
}