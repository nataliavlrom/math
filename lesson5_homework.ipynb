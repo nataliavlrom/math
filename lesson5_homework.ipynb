{
 "cells": [
  {
   "cell_type": "code",
   "execution_count": 38,
   "id": "ce559b58",
   "metadata": {
    "scrolled": true
   },
   "outputs": [],
   "source": [
    "import numpy as np\n",
    "import matplotlib.pyplot as plt\n",
    "import itertools\n",
    "from math import factorial"
   ]
  },
  {
   "cell_type": "code",
   "execution_count": 39,
   "id": "d94b79c7",
   "metadata": {},
   "outputs": [
    {
     "name": "stdout",
     "output_type": "stream",
     "text": [
      "20\n",
      "red\n",
      "_____\n",
      "33\n",
      "black\n",
      "_____\n",
      "20\n",
      "red\n",
      "_____\n",
      "18\n",
      "red\n",
      "_____\n",
      "7\n",
      "black\n",
      "_____\n"
     ]
    }
   ],
   "source": [
    "# 1. Напишите код, моделирующий выпадение поля в рулетке (с учетом поля зеро).\n",
    "\n",
    "for i in range(0, 5):\n",
    "    num = np.random.uniform(0, 37)\n",
    "    num = int(num)\n",
    "    print(num)\n",
    "    if num == 0:\n",
    "        print(\"green\")\n",
    "    elif num % 2 == 0:\n",
    "        print(\"red\")\n",
    "    else:\n",
    "        print(\"black\")\n",
    "    print('_____')"
   ]
  },
  {
   "cell_type": "code",
   "execution_count": 40,
   "id": "c2f7b7cb",
   "metadata": {},
   "outputs": [
    {
     "name": "stdout",
     "output_type": "stream",
     "text": [
      "орел: 43, решка: 57, число подбрасываний: 100\n"
     ]
    }
   ],
   "source": [
    "#2. \n",
    "#1)Напишите код, проверяющий любую из теорем сложения или умножения вероятности на примере рулетки или подбрасывания монетки.\n",
    "# k - орел\n",
    "# m - решка\n",
    "k,m = 0, 0\n",
    "n = 100\n",
    "for i in range(0, n):\n",
    "    x = np.random.uniform(0, 10)\n",
    "    if x<5:\n",
    "        k = k + 1 \n",
    "    else:\n",
    "        m = m + 1\n",
    "print(f'орел: {k}, решка: {m}, число подбрасываний: {k + m}')"
   ]
  },
  {
   "cell_type": "code",
   "execution_count": 43,
   "id": "a9175824",
   "metadata": {},
   "outputs": [
    {
     "name": "stdout",
     "output_type": "stream",
     "text": [
      "[5.824982682376947, 3.688245401705215, 5.304687642924096, 4.044770710376777, 5.742247477880205, 3.189701414806362, 4.686355108491821, 5.678514647286571, 4.620778635467124, 6.34335592977672]\n"
     ]
    },
    {
     "data": {
      "text/plain": [
       "Text(0.5, 1.0, 'Histogram')"
      ]
     },
     "execution_count": 43,
     "metadata": {},
     "output_type": "execute_result"
    },
    {
     "data": {
      "image/png": "[encoded data removed]",
      "text/plain": [
       "<Figure size 432x288 with 1 Axes>"
      ]
     },
     "metadata": {
      "needs_background": "light"
     },
     "output_type": "display_data"
    }
   ],
   "source": [
    "#2\n",
    "#2)Сгенерируйте десять выборок случайных чисел х0, …, х9.\n",
    "#и постройте гистограмму распределения случайной суммы  +х1+ …+ х9.\n",
    "\n",
    "sum_list = []\n",
    "for i in range(10):\n",
    "    x = sum(np.random.rand(10))\n",
    "    sum_list.append(x)\n",
    "print(sum_list)\n",
    "\n",
    "num_bins = 3\n",
    "n, bins, patches = plt.hist(sum_list, num_bins)\n",
    "plt.xlabel('Summa')\n",
    "plt.ylabel('Probability')\n",
    "plt.title('Histogram')"
   ]
  },
  {
   "cell_type": "code",
   "execution_count": 17,
   "id": "4f99386e",
   "metadata": {},
   "outputs": [
    {
     "name": "stdout",
     "output_type": "stream",
     "text": [
      "[0 1 0 0 1 0 0 1 0 1] [0 1 0 1 1 0 1 1 1 1] [1 1 0 0 0 0 0 1 0 1] [0 0 0 0 1 1 1 0 1 0]\n",
      "[1 3 0 1 3 1 2 3 2 3]\n",
      "2 10 0.2\n",
      "вероятность двух успехов при проведении 4 испытаний: 0.375\n"
     ]
    }
   ],
   "source": [
    "# 3.1 Дополните код Монте-Карло последовательности независимых испытаний расчетом соответствующих вероятностей \n",
    "#(через биномиальное распределение) и сравните результаты.\n",
    "\n",
    "k, n = 0, 10\n",
    "a = np.random.randint(0, 2, n)\n",
    "b = np.random.randint(0, 2, n)\n",
    "c = np.random.randint(0, 2, n)\n",
    "d = np.random.randint(0, 2, n)\n",
    "x = a + b + c+ d\n",
    "for i in range(0, n):\n",
    "    if x[i] == 2:\n",
    "        k += 1\n",
    "\n",
    "print(a, b, c, d)\n",
    "print(x)\n",
    "print(k, n, k/n)\n",
    "\n",
    "k = 2\n",
    "n = 4\n",
    "c = factorial(n)/ (factorial(k) * factorial(n - k))\n",
    "p = c * (1/2) ** n\n",
    "print(f'вероятность двух успехов при проведении 4 испытаний: {p}')"
   ]
  },
  {
   "cell_type": "code",
   "execution_count": 16,
   "id": "f59e900f",
   "metadata": {},
   "outputs": [
    {
     "name": "stdout",
     "output_type": "stream",
     "text": [
      "[0 0 0 0 0 0 0 1 1 1] [1 0 0 0 0 1 0 0 1 0] [0 1 1 0 0 1 1 0 1 0] [0 1 1 1 0 1 0 0 0 0] [1 0 1 1 1 0 0 0 1 1]\n",
      "[2 2 3 2 1 3 1 1 4 2]\n",
      "0 10 0.0\n",
      "вероятность всех неудач при проведении 5 испытаний: 0.03125\n"
     ]
    }
   ],
   "source": [
    "# 3.2 Повторите расчеты биномиальных коэффициентов и вероятностей k успехов в последовательности из n независимых испытаний, \n",
    "# взяв другие значения n и k.\n",
    "\n",
    "k, n = 0, 10\n",
    "a = np.random.randint(0, 2, n)\n",
    "b = np.random.randint(0, 2, n)\n",
    "c = np.random.randint(0, 2, n)\n",
    "d = np.random.randint(0, 2, n)\n",
    "e = np.random.randint(0, 2, n)\n",
    "x = a + b + c+ d + e\n",
    "for i in range(0, n):\n",
    "    if x[i] == 0:\n",
    "        k += 1\n",
    "\n",
    "print(a, b, c, d, e)\n",
    "print(x)\n",
    "print(k, n, k/n)\n",
    "\n",
    "k = 0\n",
    "n = 5\n",
    "c = factorial(n)/ (factorial(k) * factorial(n - k))\n",
    "p = c * (1/2) ** n\n",
    "print(f'вероятность всех неудач при проведении 5 испытаний: {p}')"
   ]
  },
  {
   "cell_type": "code",
   "execution_count": 27,
   "id": "02cd93be",
   "metadata": {},
   "outputs": [
    {
     "name": "stdout",
     "output_type": "stream",
     "text": [
      "000\n",
      "001\n",
      "002\n",
      "010\n",
      "011\n",
      "012\n",
      "020\n",
      "021\n",
      "022\n",
      "100\n",
      "101\n",
      "102\n",
      "110\n",
      "111\n",
      "112\n",
      "120\n",
      "121\n",
      "122\n",
      "200\n",
      "201\n",
      "202\n",
      "210\n",
      "211\n",
      "212\n",
      "220\n",
      "221\n",
      "222\n"
     ]
    }
   ],
   "source": [
    "# 4. Из урока по комбинаторике повторите расчеты, сгенерировав возможные варианты перестановок для других значений n и k\n",
    "\n",
    "# комбинации исходов в зависимости от числа испытаний (число исходов в степени числа испытаний)\n",
    "#3**3 = 27\n",
    "for p in itertools.product(\"012\",repeat=3):\n",
    "    print(''.join(p))   "
   ]
  },
  {
   "cell_type": "code",
   "execution_count": 38,
   "id": "72c6cd6d",
   "metadata": {},
   "outputs": [
    {
     "name": "stdout",
     "output_type": "stream",
     "text": [
      "01\n",
      "02\n",
      "03\n",
      "04\n",
      "10\n",
      "12\n",
      "13\n",
      "14\n",
      "20\n",
      "21\n",
      "23\n",
      "24\n",
      "30\n",
      "31\n",
      "32\n",
      "34\n",
      "40\n",
      "41\n",
      "42\n",
      "43\n"
     ]
    }
   ],
   "source": [
    "#4 размещения\n",
    "\n",
    "for p in itertools.permutations('01234', 2):\n",
    "    print(''.join(str(x) for x in p))"
   ]
  },
  {
   "cell_type": "code",
   "execution_count": 36,
   "id": "9499b4e2",
   "metadata": {},
   "outputs": [
    {
     "name": "stdout",
     "output_type": "stream",
     "text": [
      "01\n",
      "02\n",
      "03\n",
      "04\n",
      "12\n",
      "13\n",
      "14\n",
      "23\n",
      "24\n",
      "34\n"
     ]
    }
   ],
   "source": [
    "#4 сочетания\n",
    "for p in itertools.combinations('01234', 2):\n",
    "    print(''.join(p))"
   ]
  },
  {
   "cell_type": "code",
   "execution_count": 64,
   "id": "dec38f51",
   "metadata": {},
   "outputs": [
    {
     "data": {
      "image/png": "[encoded data removed]",
      "text/plain": [
       "<Figure size 432x288 with 1 Axes>"
      ]
     },
     "metadata": {
      "needs_background": "light"
     },
     "output_type": "display_data"
    },
    {
     "name": "stdout",
     "output_type": "stream",
     "text": [
      "0.8977862200720961 0.05212413328836774\n",
      "0.8977862200720957 0.05212413328836786\n",
      "[[1.         0.99324322]\n",
      " [0.99324322 1.        ]]\n",
      "коэффициент корелляции: 0.9932432161748335\n"
     ]
    },
    {
     "name": "stderr",
     "output_type": "stream",
     "text": [
      "<ipython-input-64-03482db77b3d>:19: FutureWarning: `rcond` parameter will change to the default of machine precision times ``max(M, N)`` where M and N are the input matrix dimensions.\n",
      "To use the future default and silence this warning we advise to pass `rcond=None`, to keep using the old, explicitly pass `rcond=-1`.\n",
      "  a1, b1 = np.linalg.lstsq(A, y)[0]\n"
     ]
    }
   ],
   "source": [
    "# 5. Дополните код расчетом коэффициента корреляции x и y по формуле\n",
    "\n",
    "n = 100\n",
    "r = 0.9\n",
    "x = np.random.rand(n)\n",
    "y = r*x + (1 - r)*np.random.rand(n)\n",
    "plt.plot(x, y, 'o')\n",
    "plt.xlabel('x')\n",
    "plt.ylabel('y')\n",
    "plt.grid(True)\n",
    "\n",
    "\n",
    "a = (np.sum(x)*np.sum(y) - n*np.sum(x*y))/(np.sum(x)*np.sum(x) - n*np.sum(x*x))\n",
    "b = (np.sum(y) - a*np.sum(x))/n\n",
    "plt.plot([0, 1], [b, a + b])\n",
    "plt.show()\n",
    "\n",
    "A = np.vstack([x, np.ones(len(x))]).T\n",
    "a1, b1 = np.linalg.lstsq(A, y)[0]\n",
    "\n",
    "print(a, b)\n",
    "print(a1, b1)\n",
    "\n",
    "c = np.corrcoef(x, y)\n",
    "print(c)\n",
    "\n",
    "p = (x - np.mean(x))\n",
    "q = (y - np.mean(y))\n",
    "\n",
    "r1 = np.sum(p * q) / np.sqrt(np.sum(p*p) * np.sum(q*q))\n",
    "print(f'коэффициент корелляции: {r1}')"
   ]
  },
  {
   "cell_type": "code",
   "execution_count": null,
   "id": "9eb24b36",
   "metadata": {},
   "outputs": [],
   "source": []
  },
  {
   "cell_type": "code",
   "execution_count": null,
   "id": "d7828b5e",
   "metadata": {},
   "outputs": [],
   "source": []
  }
 ],
 "metadata": {
  "kernelspec": {
   "display_name": "Python 3",
   "language": "python",
   "name": "python3"
  },
  "language_info": {
   "codemirror_mode": {
    "name": "ipython",
    "version": 3
   },
   "file_extension": ".py",
   "mimetype": "text/x-python",
   "name": "python",
   "nbconvert_exporter": "python",
   "pygments_lexer": "ipython3",
   "version": "3.9.5"
  }
 },
 "nbformat": 4,
 "nbformat_minor": 5
}
